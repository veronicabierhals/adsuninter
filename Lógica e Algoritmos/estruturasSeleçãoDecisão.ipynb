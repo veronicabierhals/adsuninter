{
  "nbformat": 4,
  "nbformat_minor": 0,
  "metadata": {
    "colab": {
      "provenance": [],
      "authorship_tag": "ABX9TyNMZBudupKgzkhhvOP8YNBa",
      "include_colab_link": true
    },
    "kernelspec": {
      "name": "python3",
      "display_name": "Python 3"
    },
    "language_info": {
      "name": "python"
    }
  },
  "cells": [
    {
      "cell_type": "markdown",
      "metadata": {
        "id": "view-in-github",
        "colab_type": "text"
      },
      "source": [
        "<a href=\"https://colab.research.google.com/github/veronicabierhals/adsuninter/blob/main/L%C3%B3gica%20e%20Algoritmos/estruturasSele%C3%A7%C3%A3oDecis%C3%A3o.ipynb\" target=\"_parent\"><img src=\"https://colab.research.google.com/assets/colab-badge.svg\" alt=\"Open In Colab\"/></a>"
      ]
    },
    {
      "cell_type": "markdown",
      "source": [
        "# **Estruturas de seleção ou decisão**\n",
        "\n",
        "## **Estrutura condicional**\n",
        "\n",
        "Uma estrutura condicional é uma construção fundamental em programação que permite que um programa tome decisões com base em condições específicas. Ela controla o fluxo do programa, permitindo que diferentes partes do código sejam executadas dependendo se uma condição é verdadeira ou falsa.\n",
        "\n",
        "Em essência, uma estrutura condicional avalia uma expressão ou conjunto de expressões e, com base no resultado dessa avaliação, decide qual bloco de código deve ser executado em seguida. Se a condição especificada for avaliada como verdadeira, um bloco de código é executado; se for avaliada como falsa, um outro bloco de código (ou nenhum, em alguns casos) é executado.  \n",
        "\n",
        "No Python, a estrutura condicional mais comum é a instrução ``if``. Ela permite que você execute um bloco de código se uma condição for verdadeira. Além disso, existem variações, como ``if-else``, ``if-elif-else`` e ``if-elif``, que permitem lidar com múltiplas condições de forma mais complexa.\n",
        "\n",
        "As estruturas condicionais são essenciais para escrever programas que podem tomar decisões e se adaptar dinamicamente a diferentes situações. Elas são amplamente utilizadas em diversas áreas da programação, desde aplicações simples até sistemas complexos.  \n",
        "\n",
        "## **Condicional Simples**\n",
        "\n",
        "A estrutura condicional simples permite decidir se um conjunto de instruções deve ser executado com base em um teste lógico.  \n",
        "\n",
        "Se o teste resultar em verdadeiro, as instruções são executadas; caso contrário, são ignoradas.  \n",
        "\n",
        "Em Python, a estrutura condicional é representada pela palavra ``if`` (*se* em inglês).\n",
        "\n",
        "Após o ``if``, abrimos parênteses (é opcional) e colocamos a condição lógica que deve ser satisfeita para que o bloco de instruções seja executado e fechamos parênteses.\n",
        "\n",
        "Após a condição devemos, obrigatoriamente, colocar dois pontos."
      ],
      "metadata": {
        "id": "JOA3bK6HHVnE"
      }
    },
    {
      "cell_type": "code",
      "source": [
        "# Lê dois valores inteiros e compara ambos\n",
        "x = int(input('Digite um valor inteiro: '))\n",
        "y = int(input('Digite um segundo valor inteiro: '))\n",
        "\n",
        "if (x > y):\n",
        "  print('O primeiro valor é maior que o segundo.')\n",
        "if (x < y):\n",
        "  print('O segundo valor é maior que o segundo.')"
      ],
      "metadata": {
        "colab": {
          "base_uri": "https://localhost:8080/"
        },
        "id": "KASAK5DgVNV0",
        "outputId": "dea82617-98f2-44ca-8f51-2aadc0bd6a60"
      },
      "execution_count": 2,
      "outputs": [
        {
          "output_type": "stream",
          "name": "stdout",
          "text": [
            "Digite um valor inteiro: 7\n",
            "Digite um segundo valor inteiro: 3\n",
            "O primeiro valor é maior que o segundo.\n"
          ]
        }
      ]
    },
    {
      "cell_type": "markdown",
      "source": [
        "## **Condicional composta**\n",
        "\n",
        "A estrutura condicional composta é usada quando precisamos escolher entre dois conjuntos de instruções, A ou B, para serem executados.  \n",
        "\n",
        "Em um mesmo fluxo de execução, apenas um dos conjuntos será executado.  \n",
        "\n",
        "Os conjuntos A e B podem conter instruções diferentes entre si, sem restrições quanto a isso.  \n",
        "\n",
        "Em Python, a escrita da estrutura condicional composta é semelhante à estrutura condicional simples, apenas adicionando a palavra ``else`` (*senão* em inglês) para representar o conjunto B de instruções a ser executado."
      ],
      "metadata": {
        "id": "CNxocoHKUg1f"
      }
    },
    {
      "cell_type": "code",
      "execution_count": 1,
      "metadata": {
        "colab": {
          "base_uri": "https://localhost:8080/"
        },
        "id": "fPt7VFGUG26d",
        "outputId": "4f87e94f-4618-48eb-d20c-d2582d9c46ab"
      },
      "outputs": [
        {
          "output_type": "stream",
          "name": "stdout",
          "text": [
            "Digite sua idade: 18\n",
            "Você é maior de idade.\n"
          ]
        }
      ],
      "source": [
        "# Solicita que o usuário insira sua idade\n",
        "idade = int(input(\"Digite sua idade: \"))\n",
        "\n",
        "# Verifica se a pessoa é maior de idade e exibe uma mensagem correspondente\n",
        "if idade >= 18:\n",
        "    print(\"Você é maior de idade.\")\n",
        "else:\n",
        "    print(\"Você é menor de idade.\")\n"
      ]
    },
    {
      "cell_type": "markdown",
      "source": [
        "## **Comparação de desempenho**\n",
        "\n",
        "Comparando o desempenho entre estruturas condicionais simples e compostas, vemos que ambas são eficazes para resolver um problema.  \n",
        "\n",
        "No entanto, a abordagem com condicionais simples pode gerar um custo computacional maior devido à duplicação dos cálculos.  \n",
        "\n",
        "Isso ocorre porque cada teste em uma estrutura condicional simples envolve duas operações: a divisão e o teste de igualdade.   \n",
        "\n",
        "Por outro lado, uma estrutura condicional composta realiza o teste apenas uma vez, direcionando o fluxo do programa com base no resultado.   \n",
        "\n",
        "Portanto, sempre que possível, é recomendável substituir duas condicionais simples por uma estrutura composta para otimizar o desempenho do algoritmo.  \n",
        "\n",
        "Essa substituição é viável quando os dois testes simples têm o mesmo propósito dentro do programa."
      ],
      "metadata": {
        "id": "eL7dSXX1W_4L"
      }
    },
    {
      "cell_type": "markdown",
      "source": [
        "## **Condicionais aninhadas**\n",
        "\n",
        "Condicionais aninhadas são estruturas condicionais dentro de outras estruturas condicionais.  \n",
        "\n",
        "Elas permitem avaliar múltiplas condições de forma hierárquica, onde cada condição é verificada apenas se a anterior for verdadeira.  \n",
        "\n",
        "Isso possibilita lidar com cenários mais complexos e tomar decisões mais refinadas dentro de um programa.  \n",
        "\n",
        "Por exemplo, dentro de uma estrutura ``if``, podemos ter outra estrutura ``if`` ou ``else`` para tratar condições específicas com base em casos particulares.   \n",
        "\n",
        "As condicionais aninhadas são úteis quando precisamos lidar com diferentes situações em um problema e tomar ações diferentes com base em várias condições.  \n",
        "\n",
        "No entanto, é importante manter a organização do código e evitar aninhar condicionais em excesso para manter a legibilidade e a manutenibilidade do programa."
      ],
      "metadata": {
        "id": "_h8a6quZfZEs"
      }
    },
    {
      "cell_type": "code",
      "source": [
        "# Solicita que o usuário insira sua idade\n",
        "idade = int(input(\"Digite sua idade: \"))\n",
        "\n",
        "# Verifica se a pessoa é maior de idade\n",
        "if idade >= 18:\n",
        "    print(\"Você é maior de idade.\")\n",
        "else:\n",
        "    # Se não for maior de idade, verifica se é adolescente\n",
        "    if idade >= 13:\n",
        "        print(\"Você é um adolescente.\")\n",
        "    else:\n",
        "        # Se não for adolescente, então é uma criança\n",
        "        print(\"Você é uma criança.\")\n"
      ],
      "metadata": {
        "colab": {
          "base_uri": "https://localhost:8080/"
        },
        "id": "c0TtONtmgITX",
        "outputId": "0f56710a-d47c-42f7-fc6b-c0639264cfe0"
      },
      "execution_count": 4,
      "outputs": [
        {
          "output_type": "stream",
          "name": "stdout",
          "text": [
            "Digite sua idade: 17\n",
            "Você é um adolescente.\n"
          ]
        }
      ]
    },
    {
      "cell_type": "markdown",
      "source": [
        "Neste exemplo, temos uma estrutura condicional aninhada dentro de outra.  \n",
        "Primeiro, verificamos se a idade é maior ou igual a 18. Se for, imprimimos \"Você é maior de idade\".  \n",
        "Caso contrário, entramos na condicional aninhada, onde verificamos se a idade é maior ou igual a 13.  \n",
        "Se for, imprimimos \"Você é um adolescente\".  \n",
        "Caso contrário, imprimimos \"Você é uma criança\".  \n",
        "Essas condicionais aninhadas nos permitem segmentar as respostas com base em diferentes faixas etárias."
      ],
      "metadata": {
        "id": "IqfSqxndgT6Z"
      }
    },
    {
      "cell_type": "markdown",
      "source": [
        "## **Condicionais de múltipla escolha**\n",
        "\n",
        "A condicional de múltipla escolha é uma alternativa para simplificar e organizar código com múltiplos aninhamentos de ``if``.  \n",
        "\n",
        "É útil quando todos os ``if`` precisam testar a mesma variável, como em menus de opções ou gerenciamento de catálogos.  \n",
        "\n",
        "Esta abordagem não afeta o desempenho do algoritmo em comparação com a solução aninhada, mas torna o código mais fácil de entender, reduzindo a quantidade de recuos."
      ],
      "metadata": {
        "id": "LhxzFFjyglZA"
      }
    },
    {
      "cell_type": "code",
      "source": [
        "# Exibindo um menu de opções para o usuário\n",
        "print(\"Escolha uma opção:\")\n",
        "print(\"1 - Ver saldo\")\n",
        "print(\"2 - Sacar dinheiro\")\n",
        "print(\"3 - Depositar dinheiro\")\n",
        "print(\"4 - Sair\")\n",
        "\n",
        "# Recebendo a escolha do usuário\n",
        "opcao = int(input(\"Digite o número da opção desejada: \"))\n",
        "\n",
        "# Verificando a opção escolhida\n",
        "if opcao == 1:\n",
        "    print(\"Seu saldo é R$100,00.\")\n",
        "elif opcao == 2:\n",
        "    print(\"Sacar dinheiro...\")\n",
        "elif opcao == 3:\n",
        "    print(\"Depositar dinheiro...\")\n",
        "elif opcao == 4:\n",
        "    print(\"Saindo do sistema...\")\n",
        "else:\n",
        "    print(\"Opção inválida. Por favor, escolha uma opção válida.\")\n"
      ],
      "metadata": {
        "colab": {
          "base_uri": "https://localhost:8080/"
        },
        "id": "m-l2KYT3hIZI",
        "outputId": "2874b4e7-22f5-4ba1-bb2d-5dd51d46917c"
      },
      "execution_count": 5,
      "outputs": [
        {
          "output_type": "stream",
          "name": "stdout",
          "text": [
            "Escolha uma opção:\n",
            "1 - Ver saldo\n",
            "2 - Sacar dinheiro\n",
            "3 - Depositar dinheiro\n",
            "4 - Sair\n",
            "Digite o número da opção desejada: 1\n",
            "Seu saldo é R$100,00.\n"
          ]
        }
      ]
    },
    {
      "cell_type": "markdown",
      "source": [
        "Neste exemplo, apresentamos um menu de opções para o usuário e solicitamos que ele escolha uma opção digitando o número correspondente.  \n",
        "Usamos a condicional de múltipla escolha com ``elif`` para verificar a opção escolhida e executar a ação correspondente.  \n",
        "Se a opção digitada não corresponder a nenhuma das opções válidas, uma mensagem de \"Opção inválida\" é exibida."
      ],
      "metadata": {
        "id": "l3-8AbT6hLEg"
      }
    }
  ]
}