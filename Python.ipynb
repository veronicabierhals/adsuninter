{
  "nbformat": 4,
  "nbformat_minor": 0,
  "metadata": {
    "colab": {
      "provenance": [],
      "authorship_tag": "ABX9TyMUSmT/NwmzpPzBtOi9BU4Y",
      "include_colab_link": true
    },
    "kernelspec": {
      "name": "python3",
      "display_name": "Python 3"
    },
    "language_info": {
      "name": "python"
    }
  },
  "cells": [
    {
      "cell_type": "markdown",
      "metadata": {
        "id": "view-in-github",
        "colab_type": "text"
      },
      "source": [
        "<a href=\"https://colab.research.google.com/github/veronicabierhals/adsuninter/blob/main/Python.ipynb\" target=\"_parent\"><img src=\"https://colab.research.google.com/assets/colab-badge.svg\" alt=\"Open In Colab\"/></a>"
      ]
    },
    {
      "cell_type": "markdown",
      "source": [
        "#**Primeiro programa**"
      ],
      "metadata": {
        "id": "0917SOgsSOOg"
      }
    },
    {
      "cell_type": "code",
      "execution_count": null,
      "metadata": {
        "colab": {
          "base_uri": "https://localhost:8080/"
        },
        "id": "iDfcjy3JSHwK",
        "outputId": "17305c09-4368-4cd0-d2e5-7f8fb65728d7"
      },
      "outputs": [
        {
          "output_type": "stream",
          "name": "stdout",
          "text": [
            "Olá Mundo!\n"
          ]
        }
      ],
      "source": [
        "print ('Olá Mundo!')"
      ]
    },
    {
      "cell_type": "markdown",
      "source": [
        "#**Regras básicas**\n",
        "* Sempre verifique se você digitou corretamente cada letra, número, ou caractere especial, caso contrário, erros poderão aparecer na tela.\n",
        "* Letras maiúsculas e minúsculas são compreendidas de maneira completamente diferentes pelo Python.\n",
        "* Sempre que você abrir aspas, lembre-se de fechá-las. O mesmo vale para parênteses.\n",
        "* O Python usa espaços em branco para uma série de operações.\n",
        "* Normalmente se utiliza aspas simples, porém aspas duplas também são aceitas.\n",
        "* Para que possamos mostrar um texto literal na tela, precisamos delimitá-lo por aspas.\n",
        "___"
      ],
      "metadata": {
        "id": "5HyRhCP-Sjbd"
      }
    },
    {
      "cell_type": "markdown",
      "source": [
        "Colocando aspas em expressões aritméticas, será impresso literalmente o que tem dentro das aspas."
      ],
      "metadata": {
        "id": "1_gvVoMQT-pd"
      }
    },
    {
      "cell_type": "code",
      "source": [
        "print ('2 + 3')"
      ],
      "metadata": {
        "colab": {
          "base_uri": "https://localhost:8080/"
        },
        "id": "8-Y55qNOT4eP",
        "outputId": "8c5cad3a-350f-404d-e313-dc97d017f906"
      },
      "execution_count": null,
      "outputs": [
        {
          "output_type": "stream",
          "name": "stdout",
          "text": [
            "2 + 3\n"
          ]
        }
      ]
    },
    {
      "cell_type": "markdown",
      "source": [
        "Para mostrar o resultado da expressão aritmética deve-se retirar as aspas."
      ],
      "metadata": {
        "id": "2RFPPYTsUBXc"
      }
    },
    {
      "cell_type": "code",
      "source": [
        "print (2 + 3)"
      ],
      "metadata": {
        "colab": {
          "base_uri": "https://localhost:8080/"
        },
        "id": "Uw2hywM1Toi_",
        "outputId": "4b6b678f-1e42-4d58-e0a2-cd31904c98fd"
      },
      "execution_count": null,
      "outputs": [
        {
          "output_type": "stream",
          "name": "stdout",
          "text": [
            "5\n"
          ]
        }
      ]
    },
    {
      "cell_type": "markdown",
      "source": [
        "#**Concatenação**\n",
        "\n",
        "Concatenando números."
      ],
      "metadata": {
        "id": "ZdFSYatbUsTM"
      }
    },
    {
      "cell_type": "code",
      "source": [
        "print ('2' + '3')"
      ],
      "metadata": {
        "colab": {
          "base_uri": "https://localhost:8080/"
        },
        "id": "_aBusWfWUlOl",
        "outputId": "2ac59499-fbbb-458b-b56f-0399b978bd49"
      },
      "execution_count": null,
      "outputs": [
        {
          "output_type": "stream",
          "name": "stdout",
          "text": [
            "23\n"
          ]
        }
      ]
    },
    {
      "cell_type": "markdown",
      "source": [
        "Concatenando textos."
      ],
      "metadata": {
        "id": "5-nzFGJOTFed"
      }
    },
    {
      "cell_type": "code",
      "source": [
        "print ('Olá ' + 'Mundo!')"
      ],
      "metadata": {
        "colab": {
          "base_uri": "https://localhost:8080/"
        },
        "id": "3s7jpwAAVeIu",
        "outputId": "d2793f11-cd19-4b6b-9100-0723977d6c18"
      },
      "execution_count": null,
      "outputs": [
        {
          "output_type": "stream",
          "name": "stdout",
          "text": [
            "Olá Mundo!\n"
          ]
        }
      ]
    },
    {
      "cell_type": "markdown",
      "source": [
        "Concatenando texto com vírgula."
      ],
      "metadata": {
        "id": "8GOxjTw1Vsbt"
      }
    },
    {
      "cell_type": "code",
      "source": [
        "print ('Olá ' , 'Mundo!')"
      ],
      "metadata": {
        "colab": {
          "base_uri": "https://localhost:8080/"
        },
        "id": "0ILi3gcMVn8D",
        "outputId": "d8a80e1a-d822-498a-8dff-5a6afe51c9e5"
      },
      "execution_count": null,
      "outputs": [
        {
          "output_type": "stream",
          "name": "stdout",
          "text": [
            "Olá  Mundo!\n"
          ]
        }
      ]
    },
    {
      "cell_type": "markdown",
      "source": [
        "Podemos misturar no mesmo print uma mensagem concatenada com uma\n",
        "operação aritmética.  \n",
        "Nesse caso, faz-se necessário concatenar com a virgula, obrigatoriamente."
      ],
      "metadata": {
        "id": "VTTaS1boV6c0"
      }
    },
    {
      "cell_type": "code",
      "source": [
        "print ('O resultado da soma 2 + 3 é: ' , 2 + 3)"
      ],
      "metadata": {
        "colab": {
          "base_uri": "https://localhost:8080/"
        },
        "id": "pjyoD_wJVyrN",
        "outputId": "52a5ece3-e27c-4116-e689-3c89ee1ac62f"
      },
      "execution_count": null,
      "outputs": [
        {
          "output_type": "stream",
          "name": "stdout",
          "text": [
            "O resultado da soma 2 + 3 é:  5\n"
          ]
        }
      ]
    },
    {
      "cell_type": "markdown",
      "source": [
        "#**Operadores e operações matemáticas**\n",
        "Os cálculos de expressões aritméticas funcionam da mesma maneira que na matemática tradicional.  \n",
        "Ou seja, a ordem de precedência dos operadores deve ser respeitada da mesma maneira que você respeita ao fazer um cálculo na ponta do lápis.  \n",
        "Na matemática, multiplicação e divisão acontece antes de uma adição, porém os cálculos dentro dos parênteses têm uma prioridade ainda maior.  "
      ],
      "metadata": {
        "id": "c167AXwoWTgW"
      }
    },
    {
      "cell_type": "code",
      "source": [
        "print(\"Resultado da adição:\", 5 + 3)"
      ],
      "metadata": {
        "colab": {
          "base_uri": "https://localhost:8080/"
        },
        "id": "bUCTTK10Xwyb",
        "outputId": "073c68f3-bc75-4d46-96b1-c97c99ef185a"
      },
      "execution_count": null,
      "outputs": [
        {
          "output_type": "stream",
          "name": "stdout",
          "text": [
            "Resultado da adição: 8\n"
          ]
        }
      ]
    },
    {
      "cell_type": "code",
      "source": [
        "print(\"Resultado da subtração:\", 10 - 4)"
      ],
      "metadata": {
        "colab": {
          "base_uri": "https://localhost:8080/"
        },
        "id": "PqfZU4A5X0lL",
        "outputId": "ecace6c4-be08-453f-91d3-c28d6c74ad74"
      },
      "execution_count": null,
      "outputs": [
        {
          "output_type": "stream",
          "name": "stdout",
          "text": [
            "Resultado da subtração: 6\n"
          ]
        }
      ]
    },
    {
      "cell_type": "code",
      "source": [
        "print(\"Resultado da multiplicação:\", 6 * 7)"
      ],
      "metadata": {
        "colab": {
          "base_uri": "https://localhost:8080/"
        },
        "id": "YSqO3v-EX25z",
        "outputId": "562b3cb3-b0c8-4cd8-8dd5-679dc9b14e88"
      },
      "execution_count": null,
      "outputs": [
        {
          "output_type": "stream",
          "name": "stdout",
          "text": [
            "Resultado da multiplicação: 42\n"
          ]
        }
      ]
    },
    {
      "cell_type": "code",
      "source": [
        "print(\"Resultado da divisão com casas decimais:\", 10 / 3)"
      ],
      "metadata": {
        "colab": {
          "base_uri": "https://localhost:8080/"
        },
        "id": "JEetAX_CX5ej",
        "outputId": "8bcf45f9-4956-405b-9b8a-f3bee9158912"
      },
      "execution_count": null,
      "outputs": [
        {
          "output_type": "stream",
          "name": "stdout",
          "text": [
            "Resultado da divisão com casas decimais: 3.3333333333333335\n"
          ]
        }
      ]
    },
    {
      "cell_type": "code",
      "source": [
        "print(\"Resultado da divisão somente da parte inteira:\", 10 // 3)"
      ],
      "metadata": {
        "colab": {
          "base_uri": "https://localhost:8080/"
        },
        "id": "nxUP5YHWW8bM",
        "outputId": "79489681-9767-432e-fecf-75468336bd3e"
      },
      "execution_count": null,
      "outputs": [
        {
          "output_type": "stream",
          "name": "stdout",
          "text": [
            "Resultado da divisão somente da parte inteira: 3\n"
          ]
        }
      ]
    },
    {
      "cell_type": "code",
      "source": [
        "print(\"Resultado do resto da divisão:\", 10 % 3)"
      ],
      "metadata": {
        "colab": {
          "base_uri": "https://localhost:8080/"
        },
        "id": "RemI01WcX_Aq",
        "outputId": "05783c96-141c-4e45-bb34-4f2320772ed4"
      },
      "execution_count": null,
      "outputs": [
        {
          "output_type": "stream",
          "name": "stdout",
          "text": [
            "Resultado do resto da divisão: 1\n"
          ]
        }
      ]
    },
    {
      "cell_type": "code",
      "source": [
        "print(\"Resultado da exponenciação:\", 2 ** 4)"
      ],
      "metadata": {
        "colab": {
          "base_uri": "https://localhost:8080/"
        },
        "id": "uMXD8SPqYDkF",
        "outputId": "de8b2011-db43-4525-ae74-fcd00d3bb8d4"
      },
      "execution_count": null,
      "outputs": [
        {
          "output_type": "stream",
          "name": "stdout",
          "text": [
            "Resultado da exponenciação: 16\n"
          ]
        }
      ]
    },
    {
      "cell_type": "markdown",
      "source": [
        "#**Variáveis, dados e seus tipos**\n",
        "\n",
        "##**Dados**\n",
        "\n",
        "São valores fornecidos pela entrada do programa que podem ser obtidos via usuário ou processamento e que são manipulados ao longo de toda a execução do algoritmo.  \n",
        "-> São armazenados em variáveis.\n",
        "\n",
        "\n",
        "##**Variável**\n",
        "\n",
        "Uma variável é como uma caixa virtual onde você pode armazenar informações. Cada variável tem um nome único e um valor associado a ela. É como dar um rótulo a uma caixa para poder identificá-la facilmente e guardar coisas dentro dela.  \n",
        "\n",
        "Por exemplo, imagine que você tem uma caixa chamada \"idade\" e quer guardar o valor 25 dentro dela.  \n",
        "No exemplo, idade é o nome da variável, e 25 é o valor que estamos armazenando dentro dela.  \n",
        "Você pode fazer isso em Python da seguinte forma:  \n",
        "``idade = 25``"
      ],
      "metadata": {
        "id": "4tsoav5qYMSv"
      }
    },
    {
      "cell_type": "code",
      "source": [
        "disciplina = 'Lógica de Programação e Algoritmos'\n",
        "nota = 8.5\n",
        "\n",
        "print (disciplina, nota)"
      ],
      "metadata": {
        "colab": {
          "base_uri": "https://localhost:8080/"
        },
        "id": "NbSL2EvsZDcj",
        "outputId": "efe07f12-ad61-4fbf-b285-a8238a89fd08"
      },
      "execution_count": null,
      "outputs": [
        {
          "output_type": "stream",
          "name": "stdout",
          "text": [
            "Lógica de Programação e Algoritmos 8.5\n"
          ]
        }
      ]
    },
    {
      "cell_type": "code",
      "source": [
        "print ('Disciplina: ', disciplina, 'Nota: ', nota)"
      ],
      "metadata": {
        "colab": {
          "base_uri": "https://localhost:8080/"
        },
        "id": "di03ZYxUa1fN",
        "outputId": "c25db9e9-f247-4ed9-a81c-f85e4ad9cf84"
      },
      "execution_count": null,
      "outputs": [
        {
          "output_type": "stream",
          "name": "stdout",
          "text": [
            "Disciplina:  Lógica de Programação e Algoritmos Nota:  8.5\n"
          ]
        }
      ]
    },
    {
      "cell_type": "markdown",
      "source": [
        "##**Regras para nomes de variáveis**\n",
        "\n",
        "* **Começar com letra ou sublinhado (_):** O nome da variável deve começar com uma letra (a-z, A-Z) ou um sublinhado (_).\n",
        " * Por exemplo: ``_variavel``, ``nome``, ``idade``\n",
        "\n",
        "* **Consistir de letras, números ou sublinhados:** O nome da variável pode conter letras (a-z, A-Z), números (0-9) e sublinhados (_).\n",
        " * Por exemplo: ``idade2``, ``numero_de_telefone``, ``nome_completo``\n",
        "\n",
        "* **Evitar palavras reservadas:** Não é permitido usar palavras reservadas do Python como nomes de variáveis. Palavras reservadas são aquelas que têm um significado especial na linguagem e são usadas para funções específicas.\n",
        "  * Por exemplo, você não pode usar ``if``, ``else``, ``for``, ``while``, ``def``, ``import``, entre outros.\n",
        "\n",
        "* **Distinguir maiúsculas de minúsculas:** Python é sensível a maiúsculas e minúsculas, então ``nome`` e ``Nome`` seriam tratados como duas variáveis diferentes.\n",
        "\n",
        "* **Usar nomes descritivos:** É uma boa prática escolher nomes descritivos para suas variáveis, de modo que seja fácil entender o que elas representam no contexto do seu código.\n",
        "* Por exemplo, em vez de usar ``x`` ou ``y``, use nomes como ``idade``, ``nome_completo``, ``saldo_conta``, que descrevem claramente o que a variável representa.\n",
        "___"
      ],
      "metadata": {
        "id": "f2CeHps2bP2a"
      }
    },
    {
      "cell_type": "markdown",
      "source": [
        "##**Tipos primitivos de dados**\n",
        "\n",
        "###**Numérico**\n",
        "Representa qualquer número, sejam valores inteiros, ou valores com casas decimais (também chamados de ponto flutuante). Utilizado para operações aritméticas.\n",
        "<br>\n",
        "\n",
        "**Número inteiro (int)**  \n",
        "Pertence ao conjunto de números naturais e inteiros na matemática.  \n",
        "Ex.: 100, -10, 0, 1569, -5629, 39999.\n",
        "<br>\n",
        "\n",
        "**Números de ponto flutuante (float)**  \n",
        "Armazenam casas decimais.  \n",
        "A quantidade de casas decimais armazenadas depende do tamanho da variável, quanto mais decimais, mais memória é necessária.  \n",
        "Ex.: 100.02, -10.7, 0.00, 1569.999, -5629.312, 39999.12345.  \n",
        "<br>\n",
        "\n",
        "###**Caractere**\n",
        "serve para representar letras, caracteres especiais, acentuações, e até mesmo podem ser utilizados para números, quando estes não servirem para operações aritméticas.  \n",
        "<br>\n",
        "\n",
        "###**Literal/booleano**\n",
        "Realiza operações lógicas empregando a álgebra proposta por George Boole.  \n",
        "Uma variável lógica armazena somente dois estados, verdadeiro (true, em inglês) e falso (false, em inglês).  \n",
        "Na memória do programa, ambos estados podem ser representados por um único bit.  \n",
        "Seu uso de memória no programa é ínfimo.\n",
        "O bit de valor 1 irá representar verdadeiro.  \n",
        "O bit de valor 0 representará falso."
      ],
      "metadata": {
        "id": "3X-HRExOj1s8"
      }
    },
    {
      "cell_type": "markdown",
      "source": [
        "###**Operadores lógicos**\n",
        "\n",
        "| Operador | Descrição                                                     | Exemplo            |\n",
        "|----------|---------------------------------------------------------------|--------------------|\n",
        "| and      | Retorna True se ambas as condições forem verdadeiras          | x < 5 and x < 10  |\n",
        "| or       | Retorna True se pelo menos uma das condições for verdadeira   | x < 5 or x < 10   |\n",
        "| not      | Inverte o resultado, retorna False se o resultado for True e vice-versa | not(x < 5 and x < 10) |\n",
        "\n",
        "___\n",
        "<br>"
      ],
      "metadata": {
        "id": "64e8wI67kjyR"
      }
    },
    {
      "cell_type": "code",
      "source": [
        "x = 3\n",
        "y = 7\n",
        "resultado_and = x < 5 and y < 10\n",
        "print(\"Resultado do operador and:\", resultado_and)  # Saída: True, pois x é menor que 5 e y é menor que 10"
      ],
      "metadata": {
        "colab": {
          "base_uri": "https://localhost:8080/"
        },
        "id": "KPc--U29kkyY",
        "outputId": "bb913d68-7ebd-4264-b75e-2c63ddf4d952"
      },
      "execution_count": 2,
      "outputs": [
        {
          "output_type": "stream",
          "name": "stdout",
          "text": [
            "Resultado do operador and: True\n"
          ]
        }
      ]
    },
    {
      "cell_type": "code",
      "source": [
        "x = 3\n",
        "y = 12\n",
        "resultado_or = x < 5 or y < 10\n",
        "print(\"Resultado do operador or:\", resultado_or)  # Saída: True, pois x é menor que 5"
      ],
      "metadata": {
        "colab": {
          "base_uri": "https://localhost:8080/"
        },
        "id": "sOEYkugSkqpB",
        "outputId": "e9bb089d-d639-4cc8-9a2e-d8810a5df9cf"
      },
      "execution_count": 3,
      "outputs": [
        {
          "output_type": "stream",
          "name": "stdout",
          "text": [
            "Resultado do operador or: True\n"
          ]
        }
      ]
    },
    {
      "cell_type": "code",
      "source": [
        "x = 3\n",
        "y = 7\n",
        "resultado_not = not(x < 5 and y < 10)\n",
        "print(\"Resultado do operador not:\", resultado_not)  # Saída: False, pois a condição dentro de not é True"
      ],
      "metadata": {
        "colab": {
          "base_uri": "https://localhost:8080/"
        },
        "id": "d6E6LlSgktA4",
        "outputId": "5478cc73-9ad0-46a8-e58a-ffca3de0e9eb"
      },
      "execution_count": 1,
      "outputs": [
        {
          "output_type": "stream",
          "name": "stdout",
          "text": [
            "Resultado do operador not: False\n"
          ]
        }
      ]
    },
    {
      "cell_type": "markdown",
      "source": [
        "###**Operadores relacionais**\n",
        "| Operador | Descrição                                           | Exemplo            |\n",
        "|----------|-----------------------------------------------------|--------------------|\n",
        "| ==       | Retorna True se os valores dos operandos forem iguais | x == y            |\n",
        "| !=       | Retorna True se os valores dos operandos forem diferentes | x != y            |\n",
        "| >        | Retorna True se o valor do operando esquerdo for maior que o valor do operando direito | x > y             |\n",
        "| <        | Retorna True se o valor do operando esquerdo for menor que o valor do operando direito | x < y             |\n",
        "| >=       | Retorna True se o valor do operando esquerdo for maior ou igual ao valor do operando direito | x >= y            |\n",
        "| <=       | Retorna True se o valor do operando esquerdo for menor ou igual ao valor do operando direito | x <= y            |  \n",
        "\n",
        "___\n",
        "<br>"
      ],
      "metadata": {
        "id": "LO-f5A07kfs7"
      }
    },
    {
      "cell_type": "code",
      "source": [
        "x = 5\n",
        "y = 5\n",
        "resultado_igual = x == y\n",
        "print(\"Resultado do operador ==:\", resultado_igual)  # Saída: True, pois x é igual a y"
      ],
      "metadata": {
        "colab": {
          "base_uri": "https://localhost:8080/"
        },
        "id": "G9PkbfA1k_zC",
        "outputId": "f0b18ebc-6f4f-43c8-b6b3-8bbae1b8d09e"
      },
      "execution_count": 10,
      "outputs": [
        {
          "output_type": "stream",
          "name": "stdout",
          "text": [
            "Resultado do operador ==: True\n"
          ]
        }
      ]
    },
    {
      "cell_type": "code",
      "source": [
        "x = 5\n",
        "y = 7\n",
        "resultado_diferente = x != y\n",
        "print(\"Resultado do operador !=:\", resultado_diferente)  # Saída: True, pois x é diferente de y"
      ],
      "metadata": {
        "colab": {
          "base_uri": "https://localhost:8080/"
        },
        "id": "uC_jsAq4lCqC",
        "outputId": "a59893b3-823f-4765-f920-1ad6253851f9"
      },
      "execution_count": 9,
      "outputs": [
        {
          "output_type": "stream",
          "name": "stdout",
          "text": [
            "Resultado do operador !=: True\n"
          ]
        }
      ]
    },
    {
      "cell_type": "code",
      "source": [
        "x = 8\n",
        "y = 5\n",
        "resultado_maior = x > y\n",
        "print(\"Resultado do operador >:\", resultado_maior)  # Saída: True, pois x é maior que y"
      ],
      "metadata": {
        "colab": {
          "base_uri": "https://localhost:8080/"
        },
        "id": "g9mgj6PGlGPQ",
        "outputId": "3afe33a7-0841-4d0f-f9a4-a3ac824d960c"
      },
      "execution_count": 8,
      "outputs": [
        {
          "output_type": "stream",
          "name": "stdout",
          "text": [
            "Resultado do operador >: True\n"
          ]
        }
      ]
    },
    {
      "cell_type": "code",
      "source": [
        "x = 3\n",
        "y = 5\n",
        "resultado_menor = x < y\n",
        "print(\"Resultado do operador <:\", resultado_menor)  # Saída: True, pois x é menor que y"
      ],
      "metadata": {
        "colab": {
          "base_uri": "https://localhost:8080/"
        },
        "id": "Q6hM2AO-lIit",
        "outputId": "d5733ea0-5d00-428f-c7cd-a56fec741426"
      },
      "execution_count": 7,
      "outputs": [
        {
          "output_type": "stream",
          "name": "stdout",
          "text": [
            "Resultado do operador <: True\n"
          ]
        }
      ]
    },
    {
      "cell_type": "code",
      "source": [
        "x = 5\n",
        "y = 5\n",
        "resultado_maior_igual = x >= y\n",
        "print(\"Resultado do operador >=:\", resultado_maior_igual)  # Saída: True, pois x é igual a y"
      ],
      "metadata": {
        "colab": {
          "base_uri": "https://localhost:8080/"
        },
        "id": "zWZfqFyZlKVg",
        "outputId": "6a5aafbb-6d5f-43a4-8731-d67eff22c58b"
      },
      "execution_count": 5,
      "outputs": [
        {
          "output_type": "stream",
          "name": "stdout",
          "text": [
            "Resultado do operador >=: True\n"
          ]
        }
      ]
    },
    {
      "cell_type": "code",
      "source": [
        "x = 3\n",
        "y = 5\n",
        "resultado_menor_igual = x <= y\n",
        "print(\"Resultado do operador <=:\", resultado_menor_igual)  # Saída: True, pois x é menor que y"
      ],
      "metadata": {
        "colab": {
          "base_uri": "https://localhost:8080/"
        },
        "id": "XKW9_yAelM8A",
        "outputId": "5571daa5-c720-435f-b61e-2d505664b2dc"
      },
      "execution_count": 6,
      "outputs": [
        {
          "output_type": "stream",
          "name": "stdout",
          "text": [
            "Resultado do operador <=: True\n"
          ]
        }
      ]
    }
  ]
}